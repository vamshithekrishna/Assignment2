{
 "cells": [
  {
   "cell_type": "code",
   "execution_count": 4,
   "metadata": {},
   "outputs": [
    {
     "name": "stdout",
     "output_type": "stream",
     "text": [
      "Enter First side of Triangle: 4\n",
      "Enter second side  of Triangle: 4\n",
      "Enter Third side  of Triangle: 4\n",
      "Area of Triangle:6.928203230275509\n"
     ]
    },
    {
     "data": {
      "text/plain": [
       "['Hello', 'World', 'Good', 'Morning']"
      ]
     },
     "execution_count": 4,
     "metadata": {},
     "output_type": "execute_result"
    }
   ],
   "source": [
    "'''Problem Statement 1:\n",
    "Write a Python Program(with class concepts) to find the area of the triangle using the\n",
    "below formula.\n",
    "area = (s*(s-a)*(s-b)*(s-c)) ** 0.5\n",
    "Function to take the length of the sides of triangle from user should be defined in the\n",
    "parent class and function to calculate the area should be defined in subclass.'''\n",
    "\n",
    "class Triangle():\n",
    "    def __init__(self,a,b,c):\n",
    "        self.a=float(a)\n",
    "        self.b=float(b)\n",
    "        self.c=float(c)\n",
    "        \n",
    "    def Area(self):\n",
    "        s=(self.a+self.b+self.c)/2\n",
    "        return(s*(s-self.a)*(s-self.b)*(s-self.c)) ** 0.5\n",
    "          \n",
    "a=int(input(\"Enter First side of Triangle: \"))\n",
    "b=int(input(\"Enter second side  of Triangle: \"))\n",
    "c=int(input(\"Enter Third side  of Triangle: \"))\n",
    "t=Triangle(a,b,c)\n",
    "print(\"Area of Triangle:{}\".format(t.Area()))\n",
    "\n",
    "'''Problem Statement 2:\n",
    "Write a function filter_long_words() that takes a list of words and an integer n and returns\n",
    "the list of words that are longer than n.\n",
    "'''\n",
    "def filter_long_words(input_lst, n):\n",
    "    return [i for i in input_lst if len(i) > n]\n",
    "\n",
    "filter_long_words(['Hello', 'World', 'Good', 'Morning'], 1)\n"
   ]
  },
  {
   "cell_type": "code",
   "execution_count": null,
   "metadata": {
    "collapsed": true
   },
   "outputs": [],
   "source": []
  },
  {
   "cell_type": "code",
   "execution_count": null,
   "metadata": {
    "collapsed": true
   },
   "outputs": [],
   "source": []
  }
 ],
 "metadata": {
  "kernelspec": {
   "display_name": "Python 3",
   "language": "python",
   "name": "python3"
  },
  "language_info": {
   "codemirror_mode": {
    "name": "ipython",
    "version": 3
   },
   "file_extension": ".py",
   "mimetype": "text/x-python",
   "name": "python",
   "nbconvert_exporter": "python",
   "pygments_lexer": "ipython3",
   "version": "3.6.3"
  }
 },
 "nbformat": 4,
 "nbformat_minor": 2
}
