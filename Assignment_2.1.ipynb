{
 "cells": [
  {
   "cell_type": "code",
   "execution_count": 2,
   "metadata": {},
   "outputs": [
    {
     "name": "stdout",
     "output_type": "stream",
     "text": [
      "21\n",
      "[6]\n"
     ]
    }
   ],
   "source": [
    "'''Problem Statement 1:\n",
    "Write a Python Program to implement your own myreduce() function which works exactly\n",
    "like Python's built-in function reduce()'''\n",
    "\n",
    "def myreduce(func, lst):\n",
    "    try:\n",
    "        if len(lst) == 0:\n",
    "            raise Exception(\"Empty List\")\n",
    "        first_val = lst[0]\n",
    "\n",
    "        if len(lst) == 1:\n",
    "            return first_val\n",
    "\n",
    "        for k in lst[1:]:\n",
    "            first_val = func(first_val, k)\n",
    "        return first_val\n",
    "    except Exception as e:\n",
    "        print(e)\n",
    "\n",
    "print(myreduce(lambda a, b: a + b, [1, 2, 3, 4, 5, 6]))\n",
    "\n",
    "''' Problem Statement 2:\n",
    "Write a Python program to implement your own myfilter() function which works exactly\n",
    "like Python's built-in function filter()'''\n",
    "\n",
    "def my_filter(func, lst):\n",
    "    try:\n",
    "        rslt = []\n",
    "        for i in lst:\n",
    "            if func(i) is True:\n",
    "                rslt.append(i)\n",
    "        print(rslt)\n",
    "    except Exception as e:\n",
    "        print(e)\n",
    "\n",
    "my_filter(lambda a: a > 5, [1, 2, 3, 4, 5, 6])\n"
   ]
  },
  {
   "cell_type": "code",
   "execution_count": null,
   "metadata": {
    "collapsed": true
   },
   "outputs": [],
   "source": []
  }
 ],
 "metadata": {
  "kernelspec": {
   "display_name": "Python 3",
   "language": "python",
   "name": "python3"
  },
  "language_info": {
   "codemirror_mode": {
    "name": "ipython",
    "version": 3
   },
   "file_extension": ".py",
   "mimetype": "text/x-python",
   "name": "python",
   "nbconvert_exporter": "python",
   "pygments_lexer": "ipython3",
   "version": "3.6.3"
  }
 },
 "nbformat": 4,
 "nbformat_minor": 2
}
